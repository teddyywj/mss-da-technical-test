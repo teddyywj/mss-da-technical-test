{
 "cells": [
  {
   "cell_type": "markdown",
   "id": "e17b755f",
   "metadata": {},
   "source": [
    "# MSS Data Analytics Technical Test \n"
   ]
  },
  {
   "cell_type": "markdown",
   "id": "cd464e04",
   "metadata": {},
   "source": [
    "This test is used to assess candidate's technical skills in data science. \n",
    "\n",
    "Assumptions:\n",
    "\n",
    "- Candidate is proficient in Python. \n",
    "\n",
    "This test is split into 4 sections.\n",
    "\n",
    "- Consuming APIs\n",
    "\n",
    "- Querying Databases\n",
    "\n",
    "- Exploratory Data Analysis \n",
    "\n",
    "- Data Modelling \n"
   ]
  },
  {
   "cell_type": "markdown",
   "id": "47484b50",
   "metadata": {},
   "source": [
    "### Type your name here: \n"
   ]
  },
  {
   "cell_type": "markdown",
   "id": "4b6e5c48",
   "metadata": {},
   "source": [
    "# Note to candidates:\n",
    "\n",
    "Please install any packages that you feel would help you in the test. \n",
    "\n",
    "This test is open-book, feel free to Google, however, please refrain from any outside communication. \n",
    "\n",
    "All code should be well-documented and should account for edge cases, along with instructions on the expected inputs & outputs of the functions. \n",
    "\n",
    "Emphasis would also be placed on your thought process."
   ]
  },
  {
   "cell_type": "markdown",
   "id": "5cac02cc",
   "metadata": {},
   "source": [
    "## Consuming APIs\n",
    "\n",
    "An API is a software intermediary that allows two applications to talk to another. At times, we have to consume data from published REST APIs to do data modelling. \n",
    "\n",
    "In this exercise, you will have to write a function that performs the following:\n",
    "\n",
    "- Consumes Air Temperature data from the API (https://data.gov.sg/dataset/realtime-weather-readings)\n",
    "- Returns the maximum temperature recorded for the parsed date, along with the name of location it was recorded at.  \n",
    "\n",
    "After which, please answer the following question: \n",
    "- What is the maximum temperature recorded in Singapore on 16th November 2020, and the name of the corresponding location? \n",
    "- If you are unable to retrieve data via the API, please use the provided JSON file [air_temperature.csv]"
   ]
  },
  {
   "cell_type": "code",
   "execution_count": null,
   "id": "e61cb913",
   "metadata": {},
   "outputs": [],
   "source": [
    "# Write your code here \n"
   ]
  },
  {
   "cell_type": "markdown",
   "id": "b5ec2d03",
   "metadata": {},
   "source": [
    "## Querying from a Database\n",
    "\n",
    "pandasql is a library that allows you to query pandas DataFrames using SQL syntax. \n",
    "\n",
    "pandasql uses SQLite syntax, which is pretty similar to standard SQL language. \n",
    "\n",
    "More information can be found here: https://www.sqlite.org/lang.html\n",
    "\n",
    "Using the library pandasql, you are tasked to write an SQL query to answer the following question:\n",
    "\n",
    "- #### I want to know the names of the top 3 items sold in terms of quantity.\n",
    "\n",
    "Details of schemas & tables:\n",
    "\n",
    "<b><u>Tables</u></b>: \n",
    "- df_product = Product\n",
    "- df_sales = SalesOrderDetail\n"
   ]
  },
  {
   "cell_type": "code",
   "execution_count": null,
   "id": "b54b2b31",
   "metadata": {
    "scrolled": false
   },
   "outputs": [],
   "source": [
    "# Install package pandasql if not already installed.\n",
    "!pip install pandasql"
   ]
  },
  {
   "cell_type": "code",
   "execution_count": null,
   "id": "e9f9d5bc",
   "metadata": {},
   "outputs": [],
   "source": [
    "# Treat each dataframe as though they are individual tables in a database\n",
    "df_product = pd.read_csv('Product.csv')\n",
    "df_sales = pd.read_csv('SalesOrderDetail.csv')\n",
    "# Sample SQL code\n",
    "output = sqldf(\"select * from df_product\")\n",
    "output"
   ]
  },
  {
   "cell_type": "code",
   "execution_count": null,
   "id": "e81a5252",
   "metadata": {},
   "outputs": [],
   "source": [
    "# Write your code here \n"
   ]
  },
  {
   "cell_type": "markdown",
   "id": "269fd08b",
   "metadata": {},
   "source": [
    "## Exploratory Data Analysis\n",
    "\n",
    "You are a data scientist working in an utilities company that manages power generation plants. These power generation plants supply electricity to the whole country. At the start of the day, the Operations team would have to determine the forecasted demand for the day, and relay that information to the power generation plants for their planning. As power generation plants take time to ramp up & down their production, having an accurate forecast is essential for ensure demand is adequately met. \n",
    "\n",
    "Currently, the Operations team uses their experience to determine the forecasted power demand. However, the company is embarking on their Data Analytics Transformation journey and would like to augment data analytics into their workflows. \n",
    "\n",
    "Power generation are reported in MegaWatts (MW) and are in half-hourly intervals:\n",
    "- entry_date - The date (YYYY-MM-DD hh:mm:ss)\n",
    "- demand_actual: Actual demand met by all Generation Registered Facilities\n",
    "- demand_forecast: Forecast demand for scheduling of Generation Registered Facilities\n",
    "\n",
    "The dataset is found in the file: <b><u>electricity_demand.csv</u></b>\n",
    "\n",
    "You are tasked with the following:\n",
    "\n",
    "- Performing exploratory data analysis on the dataset and share your insights (charts, tables, etc) \n",
    "\n",
    "- In the form of a chart / figures, help the management identify how well the Operations team is forecasting the demand.\n",
    "\n",
    "- Identify potential features that may have an impact on power consumption. (Roughly describe how you may want to obtain data for these features.)\n",
    "\n",
    "<b>Please include as many comments & markdown cells as possible, as we would like to know your thought process. </b>"
   ]
  },
  {
   "cell_type": "code",
   "execution_count": null,
   "id": "622ffd94",
   "metadata": {
    "scrolled": true
   },
   "outputs": [],
   "source": [
    "# Write your code here \n"
   ]
  },
  {
   "cell_type": "markdown",
   "id": "a55ca97a",
   "metadata": {},
   "source": [
    "## Data Modelling \n",
    "\n",
    "After sharing your insights with the management, they are very pleased with your work and want you to produce a machine learning model that is able to forecast the power demand. Ideally, the model should have the following features: \n",
    "\n",
    "- Accurate\n",
    "- Explainable \n",
    "- Minimal effort by operator to use \n",
    "\n",
    "You have to do the following: \n",
    "\n",
    "- Propose & justify your choice of model\n",
    "- How you would test your model \n",
    "- Metrics you will use to determine how accurate is your model \n",
    "- Create the proposed machine learning model and assess its accuracy (If time permits)"
   ]
  },
  {
   "cell_type": "code",
   "execution_count": null,
   "id": "89995ade",
   "metadata": {},
   "outputs": [],
   "source": [
    "# Write your code here \n"
   ]
  },
  {
   "cell_type": "markdown",
   "id": "80ef784c",
   "metadata": {},
   "source": [
    "## Save your work!\n",
    "\n",
    "Submit the following documents:\n",
    "\n",
    "- Working copy of the notebook (.ipynb) with the following convention <b>(MSSTT_[Full Name]_[YYYYMMDD].ipynb)</b>\n",
    "\n",
    "- PDF copy of the notebook (.pdf) with the following convention <b>(MSSTT_[Full Name]_[YYYYMMDD].pdf)</b>\n",
    "\n",
    "- Text file containing the required packages (use pip freeze to generate), with the following convention <b>(MSSTT_[Full Name]_[YYYYMMDD].txt)</b>"
   ]
  }
 ],
 "metadata": {
  "kernelspec": {
   "display_name": "Python 3 (ipykernel)",
   "language": "python",
   "name": "python3"
  },
  "language_info": {
   "codemirror_mode": {
    "name": "ipython",
    "version": 3
   },
   "file_extension": ".py",
   "mimetype": "text/x-python",
   "name": "python",
   "nbconvert_exporter": "python",
   "pygments_lexer": "ipython3",
   "version": "3.8.11"
  }
 },
 "nbformat": 4,
 "nbformat_minor": 5
}
